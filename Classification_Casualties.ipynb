{
 "cells": [
  {
   "cell_type": "markdown",
   "metadata": {},
   "source": [
    "# Classification using Casualties data\n",
    "\n",
    "Introduction: \n",
    "    \n",
    "#### In this notebook, we are comparing 11 classification algorithms to analyze the Casualties dataset over 3 years (2017, 2018, 2019).\n",
    "    \n",
    "1. Logistic Regression \n",
    "2. Logistic Regression with 10-fold CV \n",
    "3. Random Forests with 10-Fold\n",
    "4. Polynomial Kernel SVM \n",
    "5. LinearSVC \n",
    "6. Decision Tree Classifier \n",
    "7. SGD Classifier \n",
    "8. OneVsRestClassifier SVC model\n",
    "9. KNeighborsClassifier & GridSearchCV \n",
    "10. XGBoost \n",
    "11. AdaBoost\n",
    "\n",
    "<br>***Note: This notebook is estimated to run for approximately 2+ hours.***"
   ]
  },
  {
   "cell_type": "markdown",
   "metadata": {},
   "source": [
    "### Installation\n",
    "1. brew install libomp\n",
    "2. !pip install xgboost"
   ]
  },
  {
   "cell_type": "code",
   "execution_count": 2,
   "metadata": {},
   "outputs": [],
   "source": [
    "#Importing all the libraries\n",
    "\n",
    "import pandas as pd\n",
    "import numpy as np\n",
    "import sklearn\n",
    "from sklearn.metrics import accuracy_score\n",
    "from sklearn.metrics import f1_score\n",
    "from sklearn.metrics import confusion_matrix\n",
    "from sklearn.metrics import classification_report\n",
    "from sklearn import model_selection\n",
    "from sklearn.ensemble import RandomForestClassifier\n",
    "from sklearn.model_selection import train_test_split\n",
    "from sklearn.model_selection import GridSearchCV\n",
    "from sklearn.linear_model import LogisticRegression\n",
    "from sklearn.pipeline import Pipeline\n",
    "from sklearn import preprocessing\n",
    "from sklearn.preprocessing import PolynomialFeatures\n",
    "from sklearn.preprocessing import StandardScaler\n",
    "from sklearn.preprocessing import MinMaxScaler\n",
    "from sklearn.svm import LinearSVC\n",
    "from sklearn import svm\n",
    "from xgboost import XGBClassifier\n",
    "from sklearn.tree import DecisionTreeClassifier \n",
    "from sklearn.model_selection import GridSearchCV\n",
    "from sklearn import neighbors\n",
    "import matplotlib.pyplot as plt\n",
    "import warnings\n",
    "warnings.filterwarnings('ignore')\n",
    "from sklearn.model_selection import GridSearchCV\n",
    "from sklearn.multiclass import OneVsRestClassifier\n",
    "from sklearn.model_selection import StratifiedKFold\n",
    "from sklearn.base import clone"
   ]
  },
  {
   "cell_type": "code",
   "execution_count": 3,
   "metadata": {},
   "outputs": [],
   "source": [
    "#Loading the preprocessed data for Casualities\n",
    "\n",
    "df = pd.read_csv(\"data/data.csv\")"
   ]
  },
  {
   "cell_type": "code",
   "execution_count": 4,
   "metadata": {
    "scrolled": true
   },
   "outputs": [
    {
     "data": {
      "text/html": [
       "<div>\n",
       "<style scoped>\n",
       "    .dataframe tbody tr th:only-of-type {\n",
       "        vertical-align: middle;\n",
       "    }\n",
       "\n",
       "    .dataframe tbody tr th {\n",
       "        vertical-align: top;\n",
       "    }\n",
       "\n",
       "    .dataframe thead th {\n",
       "        text-align: right;\n",
       "    }\n",
       "</style>\n",
       "<table border=\"1\" class=\"dataframe\">\n",
       "  <thead>\n",
       "    <tr style=\"text-align: right;\">\n",
       "      <th></th>\n",
       "      <th>Accident_Index</th>\n",
       "      <th>Vehicle_Reference</th>\n",
       "      <th>Casualty_Reference</th>\n",
       "      <th>Casualty_Class</th>\n",
       "      <th>Sex_of_Casualty</th>\n",
       "      <th>Age_of_Casualty</th>\n",
       "      <th>Age_Band_of_Casualty</th>\n",
       "      <th>Casualty_Severity</th>\n",
       "      <th>Pedestrian_Location</th>\n",
       "      <th>Pedestrian_Movement</th>\n",
       "      <th>Car_Passenger</th>\n",
       "      <th>Bus_or_Coach_Passenger</th>\n",
       "      <th>Pedestrian_Road_Maintenance_Worker</th>\n",
       "      <th>Casualty_Type</th>\n",
       "      <th>Casualty_Home_Area_Type</th>\n",
       "      <th>Casualty_IMD_Decile</th>\n",
       "    </tr>\n",
       "  </thead>\n",
       "  <tbody>\n",
       "    <tr>\n",
       "      <th>0</th>\n",
       "      <td>2019010128300</td>\n",
       "      <td>1</td>\n",
       "      <td>1</td>\n",
       "      <td>1</td>\n",
       "      <td>1</td>\n",
       "      <td>58</td>\n",
       "      <td>9</td>\n",
       "      <td>3</td>\n",
       "      <td>0</td>\n",
       "      <td>0</td>\n",
       "      <td>0</td>\n",
       "      <td>0</td>\n",
       "      <td>0</td>\n",
       "      <td>9</td>\n",
       "      <td>1</td>\n",
       "      <td>2</td>\n",
       "    </tr>\n",
       "    <tr>\n",
       "      <th>1</th>\n",
       "      <td>2019010152270</td>\n",
       "      <td>1</td>\n",
       "      <td>1</td>\n",
       "      <td>1</td>\n",
       "      <td>2</td>\n",
       "      <td>24</td>\n",
       "      <td>5</td>\n",
       "      <td>3</td>\n",
       "      <td>0</td>\n",
       "      <td>0</td>\n",
       "      <td>0</td>\n",
       "      <td>0</td>\n",
       "      <td>0</td>\n",
       "      <td>9</td>\n",
       "      <td>1</td>\n",
       "      <td>3</td>\n",
       "    </tr>\n",
       "    <tr>\n",
       "      <th>2</th>\n",
       "      <td>2019010155191</td>\n",
       "      <td>2</td>\n",
       "      <td>1</td>\n",
       "      <td>2</td>\n",
       "      <td>2</td>\n",
       "      <td>21</td>\n",
       "      <td>5</td>\n",
       "      <td>3</td>\n",
       "      <td>0</td>\n",
       "      <td>0</td>\n",
       "      <td>0</td>\n",
       "      <td>0</td>\n",
       "      <td>0</td>\n",
       "      <td>1</td>\n",
       "      <td>1</td>\n",
       "      <td>1</td>\n",
       "    </tr>\n",
       "    <tr>\n",
       "      <th>3</th>\n",
       "      <td>2019010155192</td>\n",
       "      <td>1</td>\n",
       "      <td>1</td>\n",
       "      <td>3</td>\n",
       "      <td>1</td>\n",
       "      <td>68</td>\n",
       "      <td>10</td>\n",
       "      <td>2</td>\n",
       "      <td>5</td>\n",
       "      <td>4</td>\n",
       "      <td>0</td>\n",
       "      <td>0</td>\n",
       "      <td>0</td>\n",
       "      <td>0</td>\n",
       "      <td>1</td>\n",
       "      <td>4</td>\n",
       "    </tr>\n",
       "    <tr>\n",
       "      <th>4</th>\n",
       "      <td>2019010155194</td>\n",
       "      <td>1</td>\n",
       "      <td>1</td>\n",
       "      <td>1</td>\n",
       "      <td>2</td>\n",
       "      <td>47</td>\n",
       "      <td>8</td>\n",
       "      <td>3</td>\n",
       "      <td>0</td>\n",
       "      <td>0</td>\n",
       "      <td>0</td>\n",
       "      <td>0</td>\n",
       "      <td>0</td>\n",
       "      <td>9</td>\n",
       "      <td>1</td>\n",
       "      <td>3</td>\n",
       "    </tr>\n",
       "    <tr>\n",
       "      <th>...</th>\n",
       "      <td>...</td>\n",
       "      <td>...</td>\n",
       "      <td>...</td>\n",
       "      <td>...</td>\n",
       "      <td>...</td>\n",
       "      <td>...</td>\n",
       "      <td>...</td>\n",
       "      <td>...</td>\n",
       "      <td>...</td>\n",
       "      <td>...</td>\n",
       "      <td>...</td>\n",
       "      <td>...</td>\n",
       "      <td>...</td>\n",
       "      <td>...</td>\n",
       "      <td>...</td>\n",
       "      <td>...</td>\n",
       "    </tr>\n",
       "    <tr>\n",
       "      <th>458843</th>\n",
       "      <td>2017984121217</td>\n",
       "      <td>1</td>\n",
       "      <td>1</td>\n",
       "      <td>3</td>\n",
       "      <td>2</td>\n",
       "      <td>49</td>\n",
       "      <td>8</td>\n",
       "      <td>3</td>\n",
       "      <td>9</td>\n",
       "      <td>6</td>\n",
       "      <td>0</td>\n",
       "      <td>0</td>\n",
       "      <td>0</td>\n",
       "      <td>0</td>\n",
       "      <td>3</td>\n",
       "      <td>-1</td>\n",
       "    </tr>\n",
       "    <tr>\n",
       "      <th>458844</th>\n",
       "      <td>2017984121717</td>\n",
       "      <td>1</td>\n",
       "      <td>1</td>\n",
       "      <td>2</td>\n",
       "      <td>1</td>\n",
       "      <td>22</td>\n",
       "      <td>5</td>\n",
       "      <td>3</td>\n",
       "      <td>0</td>\n",
       "      <td>0</td>\n",
       "      <td>1</td>\n",
       "      <td>0</td>\n",
       "      <td>0</td>\n",
       "      <td>19</td>\n",
       "      <td>1</td>\n",
       "      <td>2</td>\n",
       "    </tr>\n",
       "    <tr>\n",
       "      <th>458845</th>\n",
       "      <td>2017984122317</td>\n",
       "      <td>1</td>\n",
       "      <td>1</td>\n",
       "      <td>1</td>\n",
       "      <td>1</td>\n",
       "      <td>25</td>\n",
       "      <td>5</td>\n",
       "      <td>3</td>\n",
       "      <td>0</td>\n",
       "      <td>0</td>\n",
       "      <td>0</td>\n",
       "      <td>0</td>\n",
       "      <td>0</td>\n",
       "      <td>4</td>\n",
       "      <td>1</td>\n",
       "      <td>-1</td>\n",
       "    </tr>\n",
       "    <tr>\n",
       "      <th>458846</th>\n",
       "      <td>2017984122617</td>\n",
       "      <td>1</td>\n",
       "      <td>1</td>\n",
       "      <td>1</td>\n",
       "      <td>1</td>\n",
       "      <td>49</td>\n",
       "      <td>8</td>\n",
       "      <td>3</td>\n",
       "      <td>0</td>\n",
       "      <td>0</td>\n",
       "      <td>0</td>\n",
       "      <td>0</td>\n",
       "      <td>0</td>\n",
       "      <td>9</td>\n",
       "      <td>3</td>\n",
       "      <td>-1</td>\n",
       "    </tr>\n",
       "    <tr>\n",
       "      <th>458847</th>\n",
       "      <td>2017984122617</td>\n",
       "      <td>2</td>\n",
       "      <td>2</td>\n",
       "      <td>1</td>\n",
       "      <td>1</td>\n",
       "      <td>50</td>\n",
       "      <td>8</td>\n",
       "      <td>2</td>\n",
       "      <td>0</td>\n",
       "      <td>0</td>\n",
       "      <td>0</td>\n",
       "      <td>0</td>\n",
       "      <td>0</td>\n",
       "      <td>9</td>\n",
       "      <td>2</td>\n",
       "      <td>-1</td>\n",
       "    </tr>\n",
       "  </tbody>\n",
       "</table>\n",
       "<p>458848 rows × 16 columns</p>\n",
       "</div>"
      ],
      "text/plain": [
       "       Accident_Index  Vehicle_Reference  Casualty_Reference  Casualty_Class  \\\n",
       "0       2019010128300                  1                   1               1   \n",
       "1       2019010152270                  1                   1               1   \n",
       "2       2019010155191                  2                   1               2   \n",
       "3       2019010155192                  1                   1               3   \n",
       "4       2019010155194                  1                   1               1   \n",
       "...               ...                ...                 ...             ...   \n",
       "458843  2017984121217                  1                   1               3   \n",
       "458844  2017984121717                  1                   1               2   \n",
       "458845  2017984122317                  1                   1               1   \n",
       "458846  2017984122617                  1                   1               1   \n",
       "458847  2017984122617                  2                   2               1   \n",
       "\n",
       "        Sex_of_Casualty  Age_of_Casualty  Age_Band_of_Casualty  \\\n",
       "0                     1               58                     9   \n",
       "1                     2               24                     5   \n",
       "2                     2               21                     5   \n",
       "3                     1               68                    10   \n",
       "4                     2               47                     8   \n",
       "...                 ...              ...                   ...   \n",
       "458843                2               49                     8   \n",
       "458844                1               22                     5   \n",
       "458845                1               25                     5   \n",
       "458846                1               49                     8   \n",
       "458847                1               50                     8   \n",
       "\n",
       "        Casualty_Severity  Pedestrian_Location  Pedestrian_Movement  \\\n",
       "0                       3                    0                    0   \n",
       "1                       3                    0                    0   \n",
       "2                       3                    0                    0   \n",
       "3                       2                    5                    4   \n",
       "4                       3                    0                    0   \n",
       "...                   ...                  ...                  ...   \n",
       "458843                  3                    9                    6   \n",
       "458844                  3                    0                    0   \n",
       "458845                  3                    0                    0   \n",
       "458846                  3                    0                    0   \n",
       "458847                  2                    0                    0   \n",
       "\n",
       "        Car_Passenger  Bus_or_Coach_Passenger  \\\n",
       "0                   0                       0   \n",
       "1                   0                       0   \n",
       "2                   0                       0   \n",
       "3                   0                       0   \n",
       "4                   0                       0   \n",
       "...               ...                     ...   \n",
       "458843              0                       0   \n",
       "458844              1                       0   \n",
       "458845              0                       0   \n",
       "458846              0                       0   \n",
       "458847              0                       0   \n",
       "\n",
       "        Pedestrian_Road_Maintenance_Worker  Casualty_Type  \\\n",
       "0                                        0              9   \n",
       "1                                        0              9   \n",
       "2                                        0              1   \n",
       "3                                        0              0   \n",
       "4                                        0              9   \n",
       "...                                    ...            ...   \n",
       "458843                                   0              0   \n",
       "458844                                   0             19   \n",
       "458845                                   0              4   \n",
       "458846                                   0              9   \n",
       "458847                                   0              9   \n",
       "\n",
       "        Casualty_Home_Area_Type  Casualty_IMD_Decile  \n",
       "0                             1                    2  \n",
       "1                             1                    3  \n",
       "2                             1                    1  \n",
       "3                             1                    4  \n",
       "4                             1                    3  \n",
       "...                         ...                  ...  \n",
       "458843                        3                   -1  \n",
       "458844                        1                    2  \n",
       "458845                        1                   -1  \n",
       "458846                        3                   -1  \n",
       "458847                        2                   -1  \n",
       "\n",
       "[458848 rows x 16 columns]"
      ]
     },
     "execution_count": 4,
     "metadata": {},
     "output_type": "execute_result"
    }
   ],
   "source": [
    "df #checking what this dataframe df looks like"
   ]
  },
  {
   "cell_type": "code",
   "execution_count": 5,
   "metadata": {},
   "outputs": [
    {
     "data": {
      "text/html": [
       "<div>\n",
       "<style scoped>\n",
       "    .dataframe tbody tr th:only-of-type {\n",
       "        vertical-align: middle;\n",
       "    }\n",
       "\n",
       "    .dataframe tbody tr th {\n",
       "        vertical-align: top;\n",
       "    }\n",
       "\n",
       "    .dataframe thead th {\n",
       "        text-align: right;\n",
       "    }\n",
       "</style>\n",
       "<table border=\"1\" class=\"dataframe\">\n",
       "  <thead>\n",
       "    <tr style=\"text-align: right;\">\n",
       "      <th></th>\n",
       "      <th>Vehicle_Reference</th>\n",
       "      <th>Casualty_Reference</th>\n",
       "      <th>Casualty_Class</th>\n",
       "      <th>Sex_of_Casualty</th>\n",
       "      <th>Age_of_Casualty</th>\n",
       "      <th>Age_Band_of_Casualty</th>\n",
       "      <th>Casualty_Severity</th>\n",
       "      <th>Pedestrian_Location</th>\n",
       "      <th>Pedestrian_Movement</th>\n",
       "      <th>Car_Passenger</th>\n",
       "      <th>Bus_or_Coach_Passenger</th>\n",
       "      <th>Pedestrian_Road_Maintenance_Worker</th>\n",
       "      <th>Casualty_Type</th>\n",
       "      <th>Casualty_Home_Area_Type</th>\n",
       "      <th>Casualty_IMD_Decile</th>\n",
       "    </tr>\n",
       "  </thead>\n",
       "  <tbody>\n",
       "    <tr>\n",
       "      <th>count</th>\n",
       "      <td>458848.000000</td>\n",
       "      <td>458848.000000</td>\n",
       "      <td>458848.000000</td>\n",
       "      <td>458848.000000</td>\n",
       "      <td>458848.000000</td>\n",
       "      <td>458848.000000</td>\n",
       "      <td>458848.000000</td>\n",
       "      <td>458848.000000</td>\n",
       "      <td>458848.000000</td>\n",
       "      <td>458848.000000</td>\n",
       "      <td>458848.000000</td>\n",
       "      <td>458848.000000</td>\n",
       "      <td>458848.000000</td>\n",
       "      <td>458848.000000</td>\n",
       "      <td>458848.000000</td>\n",
       "    </tr>\n",
       "    <tr>\n",
       "      <th>mean</th>\n",
       "      <td>1.479895</td>\n",
       "      <td>1.392139</td>\n",
       "      <td>1.490801</td>\n",
       "      <td>1.405062</td>\n",
       "      <td>37.497051</td>\n",
       "      <td>6.450504</td>\n",
       "      <td>2.818203</td>\n",
       "      <td>0.750979</td>\n",
       "      <td>0.590952</td>\n",
       "      <td>0.242950</td>\n",
       "      <td>0.070322</td>\n",
       "      <td>0.063649</td>\n",
       "      <td>7.237013</td>\n",
       "      <td>1.258231</td>\n",
       "      <td>3.855508</td>\n",
       "    </tr>\n",
       "    <tr>\n",
       "      <th>std</th>\n",
       "      <td>1.601020</td>\n",
       "      <td>2.361797</td>\n",
       "      <td>0.727490</td>\n",
       "      <td>0.490905</td>\n",
       "      <td>19.069044</td>\n",
       "      <td>2.247572</td>\n",
       "      <td>0.413915</td>\n",
       "      <td>2.108936</td>\n",
       "      <td>1.906667</td>\n",
       "      <td>0.569136</td>\n",
       "      <td>0.503588</td>\n",
       "      <td>0.350247</td>\n",
       "      <td>8.166837</td>\n",
       "      <td>0.613258</td>\n",
       "      <td>3.446473</td>\n",
       "    </tr>\n",
       "    <tr>\n",
       "      <th>min</th>\n",
       "      <td>1.000000</td>\n",
       "      <td>1.000000</td>\n",
       "      <td>1.000000</td>\n",
       "      <td>1.000000</td>\n",
       "      <td>0.000000</td>\n",
       "      <td>1.000000</td>\n",
       "      <td>1.000000</td>\n",
       "      <td>0.000000</td>\n",
       "      <td>0.000000</td>\n",
       "      <td>-1.000000</td>\n",
       "      <td>0.000000</td>\n",
       "      <td>0.000000</td>\n",
       "      <td>0.000000</td>\n",
       "      <td>1.000000</td>\n",
       "      <td>-1.000000</td>\n",
       "    </tr>\n",
       "    <tr>\n",
       "      <th>25%</th>\n",
       "      <td>1.000000</td>\n",
       "      <td>1.000000</td>\n",
       "      <td>1.000000</td>\n",
       "      <td>1.000000</td>\n",
       "      <td>23.000000</td>\n",
       "      <td>5.000000</td>\n",
       "      <td>3.000000</td>\n",
       "      <td>0.000000</td>\n",
       "      <td>0.000000</td>\n",
       "      <td>0.000000</td>\n",
       "      <td>0.000000</td>\n",
       "      <td>0.000000</td>\n",
       "      <td>2.000000</td>\n",
       "      <td>1.000000</td>\n",
       "      <td>1.000000</td>\n",
       "    </tr>\n",
       "    <tr>\n",
       "      <th>50%</th>\n",
       "      <td>1.000000</td>\n",
       "      <td>1.000000</td>\n",
       "      <td>1.000000</td>\n",
       "      <td>1.000000</td>\n",
       "      <td>34.000000</td>\n",
       "      <td>6.000000</td>\n",
       "      <td>3.000000</td>\n",
       "      <td>0.000000</td>\n",
       "      <td>0.000000</td>\n",
       "      <td>0.000000</td>\n",
       "      <td>0.000000</td>\n",
       "      <td>0.000000</td>\n",
       "      <td>9.000000</td>\n",
       "      <td>1.000000</td>\n",
       "      <td>4.000000</td>\n",
       "    </tr>\n",
       "    <tr>\n",
       "      <th>75%</th>\n",
       "      <td>2.000000</td>\n",
       "      <td>1.000000</td>\n",
       "      <td>2.000000</td>\n",
       "      <td>2.000000</td>\n",
       "      <td>50.000000</td>\n",
       "      <td>8.000000</td>\n",
       "      <td>3.000000</td>\n",
       "      <td>0.000000</td>\n",
       "      <td>0.000000</td>\n",
       "      <td>0.000000</td>\n",
       "      <td>0.000000</td>\n",
       "      <td>0.000000</td>\n",
       "      <td>9.000000</td>\n",
       "      <td>1.000000</td>\n",
       "      <td>7.000000</td>\n",
       "    </tr>\n",
       "    <tr>\n",
       "      <th>max</th>\n",
       "      <td>999.000000</td>\n",
       "      <td>991.000000</td>\n",
       "      <td>3.000000</td>\n",
       "      <td>2.000000</td>\n",
       "      <td>102.000000</td>\n",
       "      <td>11.000000</td>\n",
       "      <td>3.000000</td>\n",
       "      <td>10.000000</td>\n",
       "      <td>9.000000</td>\n",
       "      <td>2.000000</td>\n",
       "      <td>4.000000</td>\n",
       "      <td>2.000000</td>\n",
       "      <td>98.000000</td>\n",
       "      <td>3.000000</td>\n",
       "      <td>10.000000</td>\n",
       "    </tr>\n",
       "  </tbody>\n",
       "</table>\n",
       "</div>"
      ],
      "text/plain": [
       "       Vehicle_Reference  Casualty_Reference  Casualty_Class  Sex_of_Casualty  \\\n",
       "count      458848.000000       458848.000000   458848.000000    458848.000000   \n",
       "mean            1.479895            1.392139        1.490801         1.405062   \n",
       "std             1.601020            2.361797        0.727490         0.490905   \n",
       "min             1.000000            1.000000        1.000000         1.000000   \n",
       "25%             1.000000            1.000000        1.000000         1.000000   \n",
       "50%             1.000000            1.000000        1.000000         1.000000   \n",
       "75%             2.000000            1.000000        2.000000         2.000000   \n",
       "max           999.000000          991.000000        3.000000         2.000000   \n",
       "\n",
       "       Age_of_Casualty  Age_Band_of_Casualty  Casualty_Severity  \\\n",
       "count    458848.000000         458848.000000      458848.000000   \n",
       "mean         37.497051              6.450504           2.818203   \n",
       "std          19.069044              2.247572           0.413915   \n",
       "min           0.000000              1.000000           1.000000   \n",
       "25%          23.000000              5.000000           3.000000   \n",
       "50%          34.000000              6.000000           3.000000   \n",
       "75%          50.000000              8.000000           3.000000   \n",
       "max         102.000000             11.000000           3.000000   \n",
       "\n",
       "       Pedestrian_Location  Pedestrian_Movement  Car_Passenger  \\\n",
       "count        458848.000000        458848.000000  458848.000000   \n",
       "mean              0.750979             0.590952       0.242950   \n",
       "std               2.108936             1.906667       0.569136   \n",
       "min               0.000000             0.000000      -1.000000   \n",
       "25%               0.000000             0.000000       0.000000   \n",
       "50%               0.000000             0.000000       0.000000   \n",
       "75%               0.000000             0.000000       0.000000   \n",
       "max              10.000000             9.000000       2.000000   \n",
       "\n",
       "       Bus_or_Coach_Passenger  Pedestrian_Road_Maintenance_Worker  \\\n",
       "count           458848.000000                       458848.000000   \n",
       "mean                 0.070322                            0.063649   \n",
       "std                  0.503588                            0.350247   \n",
       "min                  0.000000                            0.000000   \n",
       "25%                  0.000000                            0.000000   \n",
       "50%                  0.000000                            0.000000   \n",
       "75%                  0.000000                            0.000000   \n",
       "max                  4.000000                            2.000000   \n",
       "\n",
       "       Casualty_Type  Casualty_Home_Area_Type  Casualty_IMD_Decile  \n",
       "count  458848.000000            458848.000000        458848.000000  \n",
       "mean        7.237013                 1.258231             3.855508  \n",
       "std         8.166837                 0.613258             3.446473  \n",
       "min         0.000000                 1.000000            -1.000000  \n",
       "25%         2.000000                 1.000000             1.000000  \n",
       "50%         9.000000                 1.000000             4.000000  \n",
       "75%         9.000000                 1.000000             7.000000  \n",
       "max        98.000000                 3.000000            10.000000  "
      ]
     },
     "execution_count": 5,
     "metadata": {},
     "output_type": "execute_result"
    }
   ],
   "source": [
    "df.describe() #Studying about the df"
   ]
  },
  {
   "cell_type": "code",
   "execution_count": 6,
   "metadata": {},
   "outputs": [
    {
     "name": "stdout",
     "output_type": "stream",
     "text": [
      "<class 'pandas.core.frame.DataFrame'>\n",
      "RangeIndex: 458848 entries, 0 to 458847\n",
      "Data columns (total 16 columns):\n",
      " #   Column                              Non-Null Count   Dtype \n",
      "---  ------                              --------------   ----- \n",
      " 0   Accident_Index                      458848 non-null  object\n",
      " 1   Vehicle_Reference                   458848 non-null  int64 \n",
      " 2   Casualty_Reference                  458848 non-null  int64 \n",
      " 3   Casualty_Class                      458848 non-null  int64 \n",
      " 4   Sex_of_Casualty                     458848 non-null  int64 \n",
      " 5   Age_of_Casualty                     458848 non-null  int64 \n",
      " 6   Age_Band_of_Casualty                458848 non-null  int64 \n",
      " 7   Casualty_Severity                   458848 non-null  int64 \n",
      " 8   Pedestrian_Location                 458848 non-null  int64 \n",
      " 9   Pedestrian_Movement                 458848 non-null  int64 \n",
      " 10  Car_Passenger                       458848 non-null  int64 \n",
      " 11  Bus_or_Coach_Passenger              458848 non-null  int64 \n",
      " 12  Pedestrian_Road_Maintenance_Worker  458848 non-null  int64 \n",
      " 13  Casualty_Type                       458848 non-null  int64 \n",
      " 14  Casualty_Home_Area_Type             458848 non-null  int64 \n",
      " 15  Casualty_IMD_Decile                 458848 non-null  int64 \n",
      "dtypes: int64(15), object(1)\n",
      "memory usage: 56.0+ MB\n"
     ]
    }
   ],
   "source": [
    "df.info() #Studying about the df"
   ]
  },
  {
   "cell_type": "code",
   "execution_count": 7,
   "metadata": {},
   "outputs": [],
   "source": [
    "X = df.loc[:, df.columns != 'Casualty_Severity'] \n",
    "#Casualty_Severity is the target column. We don't want to include this in the training data\n",
    "\n",
    "X = X.loc[:, X.columns != 'Accident_Index']\n",
    "#Accident_Index is key of the accident dataset. This is not a valid feature in training/testing data.\n",
    "\n",
    "X = X.loc[:, X.columns != 'Casualty_Reference']\n",
    "#Casualty_Reference is key of the casuality dataset. This is not a valid feature in training/testing data.\n",
    "\n",
    "\n",
    "y = df['Casualty_Severity']"
   ]
  },
  {
   "cell_type": "code",
   "execution_count": 8,
   "metadata": {
    "scrolled": true
   },
   "outputs": [
    {
     "data": {
      "text/html": [
       "<div>\n",
       "<style scoped>\n",
       "    .dataframe tbody tr th:only-of-type {\n",
       "        vertical-align: middle;\n",
       "    }\n",
       "\n",
       "    .dataframe tbody tr th {\n",
       "        vertical-align: top;\n",
       "    }\n",
       "\n",
       "    .dataframe thead th {\n",
       "        text-align: right;\n",
       "    }\n",
       "</style>\n",
       "<table border=\"1\" class=\"dataframe\">\n",
       "  <thead>\n",
       "    <tr style=\"text-align: right;\">\n",
       "      <th></th>\n",
       "      <th>Vehicle_Reference</th>\n",
       "      <th>Casualty_Class</th>\n",
       "      <th>Sex_of_Casualty</th>\n",
       "      <th>Age_of_Casualty</th>\n",
       "      <th>Age_Band_of_Casualty</th>\n",
       "      <th>Pedestrian_Location</th>\n",
       "      <th>Pedestrian_Movement</th>\n",
       "      <th>Car_Passenger</th>\n",
       "      <th>Bus_or_Coach_Passenger</th>\n",
       "      <th>Pedestrian_Road_Maintenance_Worker</th>\n",
       "      <th>Casualty_Type</th>\n",
       "      <th>Casualty_Home_Area_Type</th>\n",
       "      <th>Casualty_IMD_Decile</th>\n",
       "    </tr>\n",
       "  </thead>\n",
       "  <tbody>\n",
       "    <tr>\n",
       "      <th>0</th>\n",
       "      <td>1</td>\n",
       "      <td>1</td>\n",
       "      <td>1</td>\n",
       "      <td>58</td>\n",
       "      <td>9</td>\n",
       "      <td>0</td>\n",
       "      <td>0</td>\n",
       "      <td>0</td>\n",
       "      <td>0</td>\n",
       "      <td>0</td>\n",
       "      <td>9</td>\n",
       "      <td>1</td>\n",
       "      <td>2</td>\n",
       "    </tr>\n",
       "    <tr>\n",
       "      <th>1</th>\n",
       "      <td>1</td>\n",
       "      <td>1</td>\n",
       "      <td>2</td>\n",
       "      <td>24</td>\n",
       "      <td>5</td>\n",
       "      <td>0</td>\n",
       "      <td>0</td>\n",
       "      <td>0</td>\n",
       "      <td>0</td>\n",
       "      <td>0</td>\n",
       "      <td>9</td>\n",
       "      <td>1</td>\n",
       "      <td>3</td>\n",
       "    </tr>\n",
       "    <tr>\n",
       "      <th>2</th>\n",
       "      <td>2</td>\n",
       "      <td>2</td>\n",
       "      <td>2</td>\n",
       "      <td>21</td>\n",
       "      <td>5</td>\n",
       "      <td>0</td>\n",
       "      <td>0</td>\n",
       "      <td>0</td>\n",
       "      <td>0</td>\n",
       "      <td>0</td>\n",
       "      <td>1</td>\n",
       "      <td>1</td>\n",
       "      <td>1</td>\n",
       "    </tr>\n",
       "    <tr>\n",
       "      <th>3</th>\n",
       "      <td>1</td>\n",
       "      <td>3</td>\n",
       "      <td>1</td>\n",
       "      <td>68</td>\n",
       "      <td>10</td>\n",
       "      <td>5</td>\n",
       "      <td>4</td>\n",
       "      <td>0</td>\n",
       "      <td>0</td>\n",
       "      <td>0</td>\n",
       "      <td>0</td>\n",
       "      <td>1</td>\n",
       "      <td>4</td>\n",
       "    </tr>\n",
       "    <tr>\n",
       "      <th>4</th>\n",
       "      <td>1</td>\n",
       "      <td>1</td>\n",
       "      <td>2</td>\n",
       "      <td>47</td>\n",
       "      <td>8</td>\n",
       "      <td>0</td>\n",
       "      <td>0</td>\n",
       "      <td>0</td>\n",
       "      <td>0</td>\n",
       "      <td>0</td>\n",
       "      <td>9</td>\n",
       "      <td>1</td>\n",
       "      <td>3</td>\n",
       "    </tr>\n",
       "    <tr>\n",
       "      <th>...</th>\n",
       "      <td>...</td>\n",
       "      <td>...</td>\n",
       "      <td>...</td>\n",
       "      <td>...</td>\n",
       "      <td>...</td>\n",
       "      <td>...</td>\n",
       "      <td>...</td>\n",
       "      <td>...</td>\n",
       "      <td>...</td>\n",
       "      <td>...</td>\n",
       "      <td>...</td>\n",
       "      <td>...</td>\n",
       "      <td>...</td>\n",
       "    </tr>\n",
       "    <tr>\n",
       "      <th>458843</th>\n",
       "      <td>1</td>\n",
       "      <td>3</td>\n",
       "      <td>2</td>\n",
       "      <td>49</td>\n",
       "      <td>8</td>\n",
       "      <td>9</td>\n",
       "      <td>6</td>\n",
       "      <td>0</td>\n",
       "      <td>0</td>\n",
       "      <td>0</td>\n",
       "      <td>0</td>\n",
       "      <td>3</td>\n",
       "      <td>-1</td>\n",
       "    </tr>\n",
       "    <tr>\n",
       "      <th>458844</th>\n",
       "      <td>1</td>\n",
       "      <td>2</td>\n",
       "      <td>1</td>\n",
       "      <td>22</td>\n",
       "      <td>5</td>\n",
       "      <td>0</td>\n",
       "      <td>0</td>\n",
       "      <td>1</td>\n",
       "      <td>0</td>\n",
       "      <td>0</td>\n",
       "      <td>19</td>\n",
       "      <td>1</td>\n",
       "      <td>2</td>\n",
       "    </tr>\n",
       "    <tr>\n",
       "      <th>458845</th>\n",
       "      <td>1</td>\n",
       "      <td>1</td>\n",
       "      <td>1</td>\n",
       "      <td>25</td>\n",
       "      <td>5</td>\n",
       "      <td>0</td>\n",
       "      <td>0</td>\n",
       "      <td>0</td>\n",
       "      <td>0</td>\n",
       "      <td>0</td>\n",
       "      <td>4</td>\n",
       "      <td>1</td>\n",
       "      <td>-1</td>\n",
       "    </tr>\n",
       "    <tr>\n",
       "      <th>458846</th>\n",
       "      <td>1</td>\n",
       "      <td>1</td>\n",
       "      <td>1</td>\n",
       "      <td>49</td>\n",
       "      <td>8</td>\n",
       "      <td>0</td>\n",
       "      <td>0</td>\n",
       "      <td>0</td>\n",
       "      <td>0</td>\n",
       "      <td>0</td>\n",
       "      <td>9</td>\n",
       "      <td>3</td>\n",
       "      <td>-1</td>\n",
       "    </tr>\n",
       "    <tr>\n",
       "      <th>458847</th>\n",
       "      <td>2</td>\n",
       "      <td>1</td>\n",
       "      <td>1</td>\n",
       "      <td>50</td>\n",
       "      <td>8</td>\n",
       "      <td>0</td>\n",
       "      <td>0</td>\n",
       "      <td>0</td>\n",
       "      <td>0</td>\n",
       "      <td>0</td>\n",
       "      <td>9</td>\n",
       "      <td>2</td>\n",
       "      <td>-1</td>\n",
       "    </tr>\n",
       "  </tbody>\n",
       "</table>\n",
       "<p>458848 rows × 13 columns</p>\n",
       "</div>"
      ],
      "text/plain": [
       "        Vehicle_Reference  Casualty_Class  Sex_of_Casualty  Age_of_Casualty  \\\n",
       "0                       1               1                1               58   \n",
       "1                       1               1                2               24   \n",
       "2                       2               2                2               21   \n",
       "3                       1               3                1               68   \n",
       "4                       1               1                2               47   \n",
       "...                   ...             ...              ...              ...   \n",
       "458843                  1               3                2               49   \n",
       "458844                  1               2                1               22   \n",
       "458845                  1               1                1               25   \n",
       "458846                  1               1                1               49   \n",
       "458847                  2               1                1               50   \n",
       "\n",
       "        Age_Band_of_Casualty  Pedestrian_Location  Pedestrian_Movement  \\\n",
       "0                          9                    0                    0   \n",
       "1                          5                    0                    0   \n",
       "2                          5                    0                    0   \n",
       "3                         10                    5                    4   \n",
       "4                          8                    0                    0   \n",
       "...                      ...                  ...                  ...   \n",
       "458843                     8                    9                    6   \n",
       "458844                     5                    0                    0   \n",
       "458845                     5                    0                    0   \n",
       "458846                     8                    0                    0   \n",
       "458847                     8                    0                    0   \n",
       "\n",
       "        Car_Passenger  Bus_or_Coach_Passenger  \\\n",
       "0                   0                       0   \n",
       "1                   0                       0   \n",
       "2                   0                       0   \n",
       "3                   0                       0   \n",
       "4                   0                       0   \n",
       "...               ...                     ...   \n",
       "458843              0                       0   \n",
       "458844              1                       0   \n",
       "458845              0                       0   \n",
       "458846              0                       0   \n",
       "458847              0                       0   \n",
       "\n",
       "        Pedestrian_Road_Maintenance_Worker  Casualty_Type  \\\n",
       "0                                        0              9   \n",
       "1                                        0              9   \n",
       "2                                        0              1   \n",
       "3                                        0              0   \n",
       "4                                        0              9   \n",
       "...                                    ...            ...   \n",
       "458843                                   0              0   \n",
       "458844                                   0             19   \n",
       "458845                                   0              4   \n",
       "458846                                   0              9   \n",
       "458847                                   0              9   \n",
       "\n",
       "        Casualty_Home_Area_Type  Casualty_IMD_Decile  \n",
       "0                             1                    2  \n",
       "1                             1                    3  \n",
       "2                             1                    1  \n",
       "3                             1                    4  \n",
       "4                             1                    3  \n",
       "...                         ...                  ...  \n",
       "458843                        3                   -1  \n",
       "458844                        1                    2  \n",
       "458845                        1                   -1  \n",
       "458846                        3                   -1  \n",
       "458847                        2                   -1  \n",
       "\n",
       "[458848 rows x 13 columns]"
      ]
     },
     "execution_count": 8,
     "metadata": {},
     "output_type": "execute_result"
    }
   ],
   "source": [
    "X #X dataset"
   ]
  },
  {
   "cell_type": "code",
   "execution_count": 9,
   "metadata": {},
   "outputs": [
    {
     "data": {
      "text/plain": [
       "0         3\n",
       "1         3\n",
       "2         3\n",
       "3         2\n",
       "4         3\n",
       "         ..\n",
       "458843    3\n",
       "458844    3\n",
       "458845    3\n",
       "458846    3\n",
       "458847    2\n",
       "Name: Casualty_Severity, Length: 458848, dtype: int64"
      ]
     },
     "execution_count": 9,
     "metadata": {},
     "output_type": "execute_result"
    }
   ],
   "source": [
    "y #Target column"
   ]
  },
  {
   "cell_type": "code",
   "execution_count": 10,
   "metadata": {},
   "outputs": [],
   "source": [
    "X_train, X_test, y_train, y_test = train_test_split(X, y, test_size=0.2, random_state=42)\n",
    "\n",
    "# Splitting the dataset X and y into X_train, X_tests, and y_train, y_tests correspondingly.\n",
    "# Split ratio of 80:20% is used and random_state is used to produce the same datapoints every time (reproducible)."
   ]
  },
  {
   "cell_type": "code",
   "execution_count": 11,
   "metadata": {},
   "outputs": [],
   "source": [
    "X_Pedestrian = df['Pedestrian_Location']\n",
    "y_Pedestrian = df['Casualty_Severity']\n",
    "\n",
    "X_Ped_train, X_Ped_test, y_Ped_train, y_Ped_test = train_test_split(X_Pedestrian, y_Pedestrian, test_size=0.2, random_state=42)\n"
   ]
  },
  {
   "cell_type": "markdown",
   "metadata": {},
   "source": [
    "# Model 1: Logistic Regression - Accuracy 82.8%\n",
    "\n",
    "***Testing with various values of C*** \n",
    "\n",
    "### ***Tested C values in [0.01, 0.1, 1]***\n",
    "\n",
    "Got the same accuracy with all the C values"
   ]
  },
  {
   "cell_type": "code",
   "execution_count": 12,
   "metadata": {},
   "outputs": [
    {
     "data": {
      "text/plain": [
       "LogisticRegression(C=1, max_iter=10)"
      ]
     },
     "execution_count": 12,
     "metadata": {},
     "output_type": "execute_result"
    }
   ],
   "source": [
    "model = LogisticRegression(C=1, fit_intercept=True, intercept_scaling=1, solver='lbfgs', max_iter=10)\n",
    "model.fit(X_train, y_train)\n",
    "\n",
    "#When C = 0.1, accuracy 82.8%\n",
    "#When C = 0.01, accuracy 82.8%\n",
    "#When C = 1, accuracy 82.8%"
   ]
  },
  {
   "cell_type": "code",
   "execution_count": 13,
   "metadata": {},
   "outputs": [],
   "source": [
    "# Now that the model learnt the data, we will try to predict y_pred for X_test\n",
    "\n",
    "y_pred = model.predict(X_test)"
   ]
  },
  {
   "cell_type": "code",
   "execution_count": 14,
   "metadata": {},
   "outputs": [
    {
     "data": {
      "text/plain": [
       "0.8282772147760706"
      ]
     },
     "execution_count": 14,
     "metadata": {},
     "output_type": "execute_result"
    }
   ],
   "source": [
    "# We got 82.8% accuracy of the predictions\n",
    "\n",
    "accuracy_score(y_test, y_pred)"
   ]
  },
  {
   "cell_type": "code",
   "execution_count": 15,
   "metadata": {},
   "outputs": [
    {
     "data": {
      "text/plain": [
       "(91770,)"
      ]
     },
     "execution_count": 15,
     "metadata": {},
     "output_type": "execute_result"
    }
   ],
   "source": [
    "y_pred.shape\n",
    "\n",
    "# y_test.shape"
   ]
  },
  {
   "cell_type": "code",
   "execution_count": 16,
   "metadata": {},
   "outputs": [
    {
     "name": "stdout",
     "output_type": "stream",
     "text": [
      "\n",
      "Logistic Regression Accuracy: 82.82772147760707\n",
      "Logistic Regression Classification report:\n",
      "               precision    recall  f1-score   support\n",
      "\n",
      "           1       0.00      0.00      0.00      1050\n",
      "           2       0.00      0.00      0.00     14707\n",
      "           3       0.83      1.00      0.91     76013\n",
      "\n",
      "    accuracy                           0.83     91770\n",
      "   macro avg       0.28      0.33      0.30     91770\n",
      "weighted avg       0.69      0.83      0.75     91770\n",
      "\n"
     ]
    }
   ],
   "source": [
    "print('\\nLogistic Regression Accuracy: ' + str(accuracy_score(y_test, y_pred)*100))\n",
    "print('Logistic Regression Classification report:\\n', classification_report(y_test, y_pred))"
   ]
  },
  {
   "cell_type": "code",
   "execution_count": 17,
   "metadata": {},
   "outputs": [
    {
     "data": {
      "text/plain": [
       "array([[    0,     0,  1050],\n",
       "       [    0,     0, 14707],\n",
       "       [    0,     2, 76011]])"
      ]
     },
     "execution_count": 17,
     "metadata": {},
     "output_type": "execute_result"
    }
   ],
   "source": [
    "confusion_matrix(y_test, y_pred)"
   ]
  },
  {
   "cell_type": "markdown",
   "metadata": {},
   "source": [
    "# Model 2: Logistic Regression with 10-fold CV - Accuracy 82.94%"
   ]
  },
  {
   "cell_type": "code",
   "execution_count": 18,
   "metadata": {
    "scrolled": true
   },
   "outputs": [
    {
     "name": "stdout",
     "output_type": "stream",
     "text": [
      "Accuracy: 82.949% (1.255%)\n"
     ]
    }
   ],
   "source": [
    "num_instances = len(X)\n",
    "seed = 7\n",
    "kfold = model_selection.KFold(n_splits=10, random_state=seed)\n",
    "model = LogisticRegression()\n",
    "results = model_selection.cross_val_score(model, X, y, cv=kfold)\n",
    "print(\"Accuracy: %.3f%% (%.3f%%)\" % (results.mean()*100.0, results.std()*100.0))"
   ]
  },
  {
   "cell_type": "markdown",
   "metadata": {},
   "source": [
    "# Model 3: Random Forests with 10-Fold - Accuracy 82.028%"
   ]
  },
  {
   "cell_type": "code",
   "execution_count": 19,
   "metadata": {},
   "outputs": [
    {
     "name": "stdout",
     "output_type": "stream",
     "text": [
      "Accuracy: 80.742% (1.040%)\n"
     ]
    }
   ],
   "source": [
    "num_instances = len(X)\n",
    "seed = 7\n",
    "kfold = model_selection.KFold(n_splits=10, random_state=seed)\n",
    "model = RandomForestClassifier()\n",
    "results = model_selection.cross_val_score(model, X, y, cv=kfold)\n",
    "print(\"Accuracy: %.3f%% (%.3f%%)\" % (results.mean()*100.0, results.std()*100.0))"
   ]
  },
  {
   "cell_type": "code",
   "execution_count": 20,
   "metadata": {},
   "outputs": [],
   "source": [
    "# random forest model creation - for one instance\n",
    "model = RandomForestClassifier()\n",
    "model.fit(X_train,y_train)\n",
    "\n",
    "# predictions\n",
    "y_pred = model.predict(X_test)"
   ]
  },
  {
   "cell_type": "code",
   "execution_count": 21,
   "metadata": {},
   "outputs": [
    {
     "data": {
      "text/plain": [
       "(91770,)"
      ]
     },
     "execution_count": 21,
     "metadata": {},
     "output_type": "execute_result"
    }
   ],
   "source": [
    "y_pred.shape"
   ]
  },
  {
   "cell_type": "code",
   "execution_count": 22,
   "metadata": {
    "scrolled": false
   },
   "outputs": [
    {
     "name": "stdout",
     "output_type": "stream",
     "text": [
      "Accuracy is: 80.66906396425847%\n"
     ]
    }
   ],
   "source": [
    "print('Accuracy is: ' + str(accuracy_score(y_test, y_pred, normalize=True)*100) + '%')"
   ]
  },
  {
   "cell_type": "code",
   "execution_count": 23,
   "metadata": {},
   "outputs": [
    {
     "name": "stdout",
     "output_type": "stream",
     "text": [
      "Confusion Matrix :\n",
      "[[    8   155   887]\n",
      " [   52  1638 13017]\n",
      " [  132  3497 72384]]\n"
     ]
    }
   ],
   "source": [
    "results = confusion_matrix(y_test, y_pred) \n",
    "\n",
    "print (\"Confusion Matrix :\")\n",
    "print(results)"
   ]
  },
  {
   "cell_type": "markdown",
   "metadata": {},
   "source": [
    "# Method 4: Polynomial Kernel SVM - Accuracy 82.82%"
   ]
  },
  {
   "cell_type": "code",
   "execution_count": 24,
   "metadata": {},
   "outputs": [
    {
     "name": "stdout",
     "output_type": "stream",
     "text": [
      "Polynomial Regression Accuracy: 82.82990083905416\n",
      "Polynomial Regression Classification report:\n",
      "               precision    recall  f1-score   support\n",
      "\n",
      "           1       0.00      0.00      0.00      1050\n",
      "           2       0.00      0.00      0.00     14707\n",
      "           3       0.83      1.00      0.91     76013\n",
      "\n",
      "    accuracy                           0.83     91770\n",
      "   macro avg       0.28      0.33      0.30     91770\n",
      "weighted avg       0.69      0.83      0.75     91770\n",
      "\n",
      "Confusion Matrix :\n",
      "[[    0     0  1050]\n",
      " [    1     0 14706]\n",
      " [    0     0 76013]]\n"
     ]
    }
   ],
   "source": [
    "model = Pipeline([\n",
    "        (\"poly_features\", PolynomialFeatures(degree=3)),\n",
    "        (\"scaler\", MinMaxScaler()),\n",
    "        (\"svm_clf\", LinearSVC(C=1, loss=\"hinge\", random_state=42))\n",
    "    ])\n",
    "\n",
    "\n",
    "model.fit(X_train, y_train)\n",
    "\n",
    "#y_test\n",
    "y_pred = model.predict(X_test)\n",
    "\n",
    "\n",
    "#Confusion Matrix\n",
    "print('Polynomial Regression Accuracy: ' + str(accuracy_score(y_test, y_pred)*100))\n",
    "print('Polynomial Regression Classification report:\\n', classification_report(y_test, y_pred))\n",
    "\n",
    "results = confusion_matrix(y_test, y_pred) \n",
    "\n",
    "print (\"Confusion Matrix :\")\n",
    "print(results) "
   ]
  },
  {
   "cell_type": "markdown",
   "metadata": {},
   "source": [
    "# Method 5: LinearSVC - Accuracy 82.82%"
   ]
  },
  {
   "cell_type": "code",
   "execution_count": 25,
   "metadata": {},
   "outputs": [
    {
     "data": {
      "text/plain": [
       "Pipeline(steps=[('scaler', StandardScaler()),\n",
       "                ('linear_svc',\n",
       "                 LinearSVC(C=0.1, loss='hinge', random_state=42))])"
      ]
     },
     "execution_count": 25,
     "metadata": {},
     "output_type": "execute_result"
    }
   ],
   "source": [
    "# 1. Create an svm Classifier\n",
    "model = svmClassifier2 = Pipeline([\n",
    "    (\"scaler\", StandardScaler()), \n",
    "    (\"linear_svc\", LinearSVC(C=0.1, loss='hinge',random_state=42))])\n",
    "\n",
    "#2. Train the model using the training sets - fit the model - with training data\n",
    "model.fit(X_train, y_train)\n"
   ]
  },
  {
   "cell_type": "code",
   "execution_count": 26,
   "metadata": {},
   "outputs": [
    {
     "name": "stdout",
     "output_type": "stream",
     "text": [
      "Linear SVM Training Accuracy: 82.82990083905416\n"
     ]
    }
   ],
   "source": [
    "#To know if the model is overfitting or underfitting\n",
    "y_train_pred = model.predict(X_test)\n",
    "\n",
    "print('Linear SVM Training Accuracy: ' + str(accuracy_score(y_test, y_train_pred)*100))"
   ]
  },
  {
   "cell_type": "code",
   "execution_count": 27,
   "metadata": {},
   "outputs": [
    {
     "name": "stdout",
     "output_type": "stream",
     "text": [
      "Linear SVM Accuracy: 82.82990083905416\n",
      "Linear SVM Classification report:\n",
      "               precision    recall  f1-score   support\n",
      "\n",
      "           1       0.00      0.00      0.00      1050\n",
      "           2       0.00      0.00      0.00     14707\n",
      "           3       0.83      1.00      0.91     76013\n",
      "\n",
      "    accuracy                           0.83     91770\n",
      "   macro avg       0.28      0.33      0.30     91770\n",
      "weighted avg       0.69      0.83      0.75     91770\n",
      "\n",
      "Confusion Matrix :\n",
      "[[    0     0  1050]\n",
      " [    0     0 14707]\n",
      " [    0     0 76013]]\n"
     ]
    }
   ],
   "source": [
    "#3. Predict the response for test dataset - predict using the trained model for test data\n",
    "y_pred = model.predict(X_test)\n",
    "\n",
    "print('Linear SVM Accuracy: ' + str(accuracy_score(y_test, y_pred)*100))\n",
    "print('Linear SVM Classification report:\\n', classification_report(y_test, y_pred))\n",
    "\n",
    "results = confusion_matrix(y_test, y_pred) \n",
    "\n",
    "print (\"Confusion Matrix :\")\n",
    "print(results) "
   ]
  },
  {
   "cell_type": "markdown",
   "metadata": {},
   "source": [
    "# Method 6: Decision Tree Classifier - Accuracy 81.337%"
   ]
  },
  {
   "cell_type": "code",
   "execution_count": 28,
   "metadata": {},
   "outputs": [
    {
     "name": "stdout",
     "output_type": "stream",
     "text": [
      "Decision Tree classifer : 78.44393592677346\n",
      "Decision Tree Classification report:\n",
      "               precision    recall  f1-score   support\n",
      "\n",
      "           1       0.04      0.03      0.03      1050\n",
      "           2       0.28      0.16      0.21     14707\n",
      "           3       0.84      0.91      0.88     76013\n",
      "\n",
      "    accuracy                           0.78     91770\n",
      "   macro avg       0.39      0.37      0.37     91770\n",
      "weighted avg       0.74      0.78      0.76     91770\n",
      "\n",
      "Confusion Matrix :\n",
      "[[   29   224   797]\n",
      " [  188  2417 12102]\n",
      " [  463  6008 69542]]\n"
     ]
    }
   ],
   "source": [
    "# Decision Tree Classifier model\n",
    "model = DecisionTreeClassifier()\n",
    "\n",
    "# Training the model\n",
    "model = model.fit(X_train,y_train)\n",
    "\n",
    "#Predicting the results\n",
    "y_pred = model.predict(X_test)\n",
    "\n",
    "print('Decision Tree classifer : ' + str(accuracy_score(y_test, y_pred)*100))\n",
    "print('Decision Tree Classification report:\\n', classification_report(y_test, y_pred))\n",
    "\n",
    "results = confusion_matrix(y_test, y_pred) \n",
    "\n",
    "print (\"Confusion Matrix :\")\n",
    "print(results)"
   ]
  },
  {
   "cell_type": "markdown",
   "metadata": {},
   "source": [
    "# Model 7: SGD Classifier - Accuracy 81.33%"
   ]
  },
  {
   "cell_type": "code",
   "execution_count": 29,
   "metadata": {},
   "outputs": [
    {
     "data": {
      "text/plain": [
       "SGDClassifier(random_state=42)"
      ]
     },
     "execution_count": 29,
     "metadata": {},
     "output_type": "execute_result"
    }
   ],
   "source": [
    "from sklearn.linear_model import SGDClassifier\n",
    "\n",
    "sgd_clf = SGDClassifier(max_iter=1000, tol=1e-3, random_state=42)\n",
    "sgd_clf.fit(X_train, y_train)"
   ]
  },
  {
   "cell_type": "code",
   "execution_count": 30,
   "metadata": {},
   "outputs": [
    {
     "name": "stdout",
     "output_type": "stream",
     "text": [
      "SGD classifer : 78.44393592677346\n",
      "SGD Classification report:\n",
      "               precision    recall  f1-score   support\n",
      "\n",
      "           1       0.04      0.03      0.03      1050\n",
      "           2       0.28      0.16      0.21     14707\n",
      "           3       0.84      0.91      0.88     76013\n",
      "\n",
      "    accuracy                           0.78     91770\n",
      "   macro avg       0.39      0.37      0.37     91770\n",
      "weighted avg       0.74      0.78      0.76     91770\n",
      "\n",
      "Confusion Matrix :\n",
      "[[   29   224   797]\n",
      " [  188  2417 12102]\n",
      " [  463  6008 69542]]\n"
     ]
    }
   ],
   "source": [
    "sgd_clf.predict(X_test)\n",
    "\n",
    "print('SGD classifer : ' + str(accuracy_score(y_test, y_pred)*100))\n",
    "print('SGD Classification report:\\n', classification_report(y_test, y_pred))\n",
    "\n",
    "results = confusion_matrix(y_test, y_pred) \n",
    "\n",
    "print (\"Confusion Matrix :\")\n",
    "print(results)"
   ]
  },
  {
   "cell_type": "markdown",
   "metadata": {},
   "source": [
    "# Model 8: OneVsRestClassifier SVC model - Accuracy 82.61%"
   ]
  },
  {
   "cell_type": "code",
   "execution_count": 31,
   "metadata": {},
   "outputs": [
    {
     "name": "stdout",
     "output_type": "stream",
     "text": [
      "3\n"
     ]
    }
   ],
   "source": [
    "from sklearn.svm import SVC\n",
    "from sklearn.multiclass import OneVsRestClassifier\n",
    "ovr_clf = OneVsRestClassifier(SVC(gamma=\"auto\", random_state=42))\n",
    "ovr_clf.fit(X_train[:1000], y_train[:1000])\n",
    "print(len(ovr_clf.estimators_))\n",
    "\n",
    "y_pred = ovr_clf.predict(X_test)\n"
   ]
  },
  {
   "cell_type": "code",
   "execution_count": 32,
   "metadata": {},
   "outputs": [
    {
     "name": "stdout",
     "output_type": "stream",
     "text": [
      "SVM SVC One vs. All Classifer : 82.62939958592132\n",
      "SVM SVC One vs. All Classification report:\n",
      "               precision    recall  f1-score   support\n",
      "\n",
      "           1       0.00      0.00      0.00      1050\n",
      "           2       0.30      0.01      0.02     14707\n",
      "           3       0.83      1.00      0.90     76013\n",
      "\n",
      "    accuracy                           0.83     91770\n",
      "   macro avg       0.38      0.34      0.31     91770\n",
      "weighted avg       0.73      0.83      0.75     91770\n",
      "\n",
      "Confusion Matrix :\n",
      "[[    0    13  1037]\n",
      " [   11   140 14556]\n",
      " [   10   314 75689]]\n"
     ]
    }
   ],
   "source": [
    "print('SVM SVC One vs. All Classifer : ' + str(accuracy_score(y_test, y_pred)*100))\n",
    "print('SVM SVC One vs. All Classification report:\\n', classification_report(y_test, y_pred))\n",
    "\n",
    "results = confusion_matrix(y_test, y_pred) \n",
    "\n",
    "print (\"Confusion Matrix :\")\n",
    "print(results)"
   ]
  },
  {
   "cell_type": "markdown",
   "metadata": {},
   "source": [
    "# Model 9: KNeighborsClassifier & GridSearchCV - Accuracy 80.38%"
   ]
  },
  {
   "cell_type": "code",
   "execution_count": 33,
   "metadata": {},
   "outputs": [
    {
     "name": "stdout",
     "output_type": "stream",
     "text": [
      "Fitting 3 folds for each of 4 candidates, totalling 12 fits\n",
      "[CV] n_neighbors=3, weights=uniform ..................................\n"
     ]
    },
    {
     "name": "stderr",
     "output_type": "stream",
     "text": [
      "[Parallel(n_jobs=1)]: Using backend SequentialBackend with 1 concurrent workers.\n"
     ]
    },
    {
     "name": "stdout",
     "output_type": "stream",
     "text": [
      "[CV] ...... n_neighbors=3, weights=uniform, score=0.783, total=  40.6s\n",
      "[CV] n_neighbors=3, weights=uniform ..................................\n"
     ]
    },
    {
     "name": "stderr",
     "output_type": "stream",
     "text": [
      "[Parallel(n_jobs=1)]: Done   1 out of   1 | elapsed:   40.6s remaining:    0.0s\n"
     ]
    },
    {
     "name": "stdout",
     "output_type": "stream",
     "text": [
      "[CV] ...... n_neighbors=3, weights=uniform, score=0.785, total=  33.5s\n",
      "[CV] n_neighbors=3, weights=uniform ..................................\n"
     ]
    },
    {
     "name": "stderr",
     "output_type": "stream",
     "text": [
      "[Parallel(n_jobs=1)]: Done   2 out of   2 | elapsed:  1.2min remaining:    0.0s\n"
     ]
    },
    {
     "name": "stdout",
     "output_type": "stream",
     "text": [
      "[CV] ...... n_neighbors=3, weights=uniform, score=0.785, total=  39.2s\n",
      "[CV] n_neighbors=3, weights=distance .................................\n",
      "[CV] ..... n_neighbors=3, weights=distance, score=0.771, total=  35.0s\n",
      "[CV] n_neighbors=3, weights=distance .................................\n",
      "[CV] ..... n_neighbors=3, weights=distance, score=0.774, total=  28.2s\n",
      "[CV] n_neighbors=3, weights=distance .................................\n",
      "[CV] ..... n_neighbors=3, weights=distance, score=0.774, total=  36.2s\n",
      "[CV] n_neighbors=5, weights=uniform ..................................\n",
      "[CV] ...... n_neighbors=5, weights=uniform, score=0.804, total=  39.9s\n",
      "[CV] n_neighbors=5, weights=uniform ..................................\n",
      "[CV] ...... n_neighbors=5, weights=uniform, score=0.805, total=  34.0s\n",
      "[CV] n_neighbors=5, weights=uniform ..................................\n",
      "[CV] ...... n_neighbors=5, weights=uniform, score=0.806, total=  40.6s\n",
      "[CV] n_neighbors=5, weights=distance .................................\n",
      "[CV] ..... n_neighbors=5, weights=distance, score=0.786, total=  36.1s\n",
      "[CV] n_neighbors=5, weights=distance .................................\n",
      "[CV] ..... n_neighbors=5, weights=distance, score=0.787, total=  30.7s\n",
      "[CV] n_neighbors=5, weights=distance .................................\n",
      "[CV] ..... n_neighbors=5, weights=distance, score=0.788, total=  37.6s\n"
     ]
    },
    {
     "name": "stderr",
     "output_type": "stream",
     "text": [
      "[Parallel(n_jobs=1)]: Done  12 out of  12 | elapsed:  7.2min finished\n"
     ]
    },
    {
     "data": {
      "text/plain": [
       "{'n_neighbors': 5, 'weights': 'uniform'}"
      ]
     },
     "execution_count": 33,
     "metadata": {},
     "output_type": "execute_result"
    }
   ],
   "source": [
    "from sklearn.model_selection import GridSearchCV\n",
    "from sklearn.neighbors import KNeighborsClassifier\n",
    "\n",
    "param_grid = [{'weights': [\"uniform\", \"distance\"], 'n_neighbors': [3, 5]}]\n",
    "\n",
    "knn_clf = KNeighborsClassifier()\n",
    "grid_search = GridSearchCV(knn_clf, param_grid, cv=3, verbose=3)\n",
    "grid_search.fit(X_train, y_train)\n",
    "\n",
    "grid_search.best_params_"
   ]
  },
  {
   "cell_type": "code",
   "execution_count": 34,
   "metadata": {},
   "outputs": [
    {
     "data": {
      "text/plain": [
       "0.8050169201209848"
      ]
     },
     "execution_count": 34,
     "metadata": {},
     "output_type": "execute_result"
    }
   ],
   "source": [
    "grid_search.best_score_"
   ]
  },
  {
   "cell_type": "code",
   "execution_count": 35,
   "metadata": {},
   "outputs": [
    {
     "data": {
      "text/plain": [
       "0.8030620028331699"
      ]
     },
     "execution_count": 35,
     "metadata": {},
     "output_type": "execute_result"
    }
   ],
   "source": [
    "from sklearn.metrics import accuracy_score\n",
    "\n",
    "y_pred = grid_search.predict(X_test)\n",
    "accuracy_score(y_test, y_pred)"
   ]
  },
  {
   "cell_type": "markdown",
   "metadata": {},
   "source": [
    "# Model 10: XGBoost - Accuracy 82.81%"
   ]
  },
  {
   "cell_type": "code",
   "execution_count": 36,
   "metadata": {},
   "outputs": [
    {
     "name": "stdout",
     "output_type": "stream",
     "text": [
      "[14:26:52] WARNING: /Users/travis/build/dmlc/xgboost/src/learner.cc:516: \n",
      "Parameters: { scale_pos_weight } might not be used.\n",
      "\n",
      "  This may not be accurate due to some parameters are only used in language bindings but\n",
      "  passed down to XGBoost core.  Or some parameters are not used but slip through this\n",
      "  verification. Please open an issue if you find above cases.\n",
      "\n",
      "\n",
      "Accuracy is:0.8284515636918383\n"
     ]
    }
   ],
   "source": [
    "import xgboost as xgb\n",
    "\n",
    "clf = xgb.XGBClassifier(\n",
    " learning_rate =0.1,\n",
    " n_estimators=1000,\n",
    " max_depth=5,\n",
    " min_child_weight=1,\n",
    " gamma=0,\n",
    " subsample=0.8,\n",
    " colsample_bytree=0.8,\n",
    " objective= 'binary:logistic',\n",
    " nthread=4,\n",
    " scale_pos_weight=1,\n",
    " seed=27)\n",
    "\n",
    "clf.fit(X_train, y_train)\n",
    "\n",
    "y_pred = clf.predict(X_test)\n",
    "print('Accuracy is:' + str(accuracy_score(y_test, y_pred)))"
   ]
  },
  {
   "cell_type": "markdown",
   "metadata": {},
   "source": [
    "# Model 11: AdaBoost - Accuracy 82.83%"
   ]
  },
  {
   "cell_type": "code",
   "execution_count": 37,
   "metadata": {},
   "outputs": [
    {
     "name": "stdout",
     "output_type": "stream",
     "text": [
      "Accuracy is:0.8284079764628963\n"
     ]
    }
   ],
   "source": [
    "from sklearn.ensemble import AdaBoostClassifier\n",
    "\n",
    "ada_clf = AdaBoostClassifier(\n",
    "    DecisionTreeClassifier(max_depth=1), n_estimators=200,\n",
    "    algorithm=\"SAMME.R\", learning_rate=0.5, random_state=42)\n",
    "ada_clf.fit(X_train, y_train)\n",
    "\n",
    "y_pred = ada_clf.predict(X_test)\n",
    "print('Accuracy is:' + str(accuracy_score(y_test, y_pred)))"
   ]
  },
  {
   "cell_type": "markdown",
   "metadata": {},
   "source": [
    "# Conclusions"
   ]
  },
  {
   "cell_type": "markdown",
   "metadata": {},
   "source": [
    "So far, we have run and evalauted 11 popular classification models. <br><br>\n",
    "***Logistic Regression with 10-fold CV (82.94% accuracy) and AdaBoost (82.83% accuracy) are the best performing models amongst all.***\n",
    "<br>\n",
    "\n",
    "Summary all the models:\n",
    "1. Logistic Regression - Accuracy 82.8%\n",
    "2. Logistic Regression with 10-fold CV - Accuracy 82.94%\n",
    "3. Random Forests with 10-Fold - Accuracy 82.028%\n",
    "4. Polynomial Kernel SVM - Accuracy 82.82%\n",
    "5. LinearSVC - Accuracy 82.82%\n",
    "6. Decision Tree Classifier - Accuracy 81.337%\n",
    "7. SGD Classifier - Accuracy 81.33%\n",
    "8. OneVsRestClassifier SVC model - Accuracy 82.61%\n",
    "9. KNeighborsClassifier & GridSearchCV - Accuracy 80.38%\n",
    "10. XGBoost - Accuracy 82.81%\n",
    "11. AdaBoost - Accuracy 82.83%\n",
    "\n",
    "\n"
   ]
  },
  {
   "cell_type": "markdown",
   "metadata": {},
   "source": [
    "1. Logistic Regression: (a.k.a Logit Regression)\n",
    "This model is commonly used to estimate the probability of a prediction of a particular class.\n",
    "When C=1, the logistic regression model gave an accuracy of 82.82%\n",
    "\n",
    "We also evaluated the model by varying C values to 0.01, 0.1, and 1. All three experiments resulted in an accuracy of 82.82%.\n",
    "\n",
    "2. Logistic Regression with 10-Fold Cross-Validation\n",
    "\n",
    "In K Fold cross-validation (CV), the data is divided into k subsets. Now the holdout method is repeated k times, such that each time, one of the k subsets is used as the test set/ validation set and the other k-1 subsets are put together to form a training set. [4]\n",
    "\n",
    "In this step, we used 10-Fold CV achieved an accuracy of 82.94%\n",
    "\n",
    "3. Random Forests with 10-Fold Cross-Validation\n",
    "\n",
    "An ensemble learning method for classification, random forest classifier achieved an accuracy of 82.028%\n",
    "\n",
    "4. Polynomial Kernel SVM, of degree = 3\n",
    "\n",
    "We used a degree of 3 polynomial SVM for this data. This gave an accuracy of 82.82%\n",
    "\n",
    "5. LinearSVC\n",
    "\n",
    "In LinearSVC, the algorithm aims to get the ‘best fit’ hyperplane that classifies the data. In this step, we achieved an accuracy of 82.82%. \n",
    "\n",
    "6. Decision Tree Classifier\t\n",
    "\n",
    "A decision tree classifier builds the model in the form of a tree structure. This tree has decision nodes and leaf nodes. We used a decision tree classifier for our problem and got an accuracy of 81.337%.\n",
    "\n",
    "7. SGD Classifier\t\n",
    "\n",
    "Stochastic Gradient Descent (SGD) classifier is a widely popular algorithm for its ease of use and efficiency. In this step, we achieved an accuracy of 81.33% \n",
    "\n",
    "8. OneVsRestClassifier SVC model\t\n",
    "\n",
    "Also known as one-vs-all, this strategy consists of fitting one classifier per class. For each classifier, the class is fitted against all the other classes. In addition to its computational efficiency (only n_classes classifiers are needed), one advantage of this approach is its interpretability. [5]\n",
    "\n",
    "In this step, we achieved an accuracy of 82.61%\n",
    "\n",
    "9. KNeighborsClassifier & GridSearchCV\n",
    "\n",
    "KNeighborsClassifier is implemented based on a k-nearest neighbor vote. In this step, we achieved an accuracy of 80.38%\n",
    "\n",
    "10. XGBoost \n",
    "XGBoost, which provides parallel tree boosting, is one of the most popular machine learning models in recent years. We used XGBoost for this problem and achieved an accuracy of 82.81%.\n",
    "\n",
    "11. AdaBoost \n",
    "\n",
    "AdaBoost iteratively learns from the mistakes of weak classifiers, and tries to turn them into strong ones. In this step, we achieved an accuracy of 82.83%\n"
   ]
  },
  {
   "cell_type": "markdown",
   "metadata": {},
   "source": [
    "References\n",
    "\n",
    "1. https://scikit-learn.org/stable/modules/generated/sklearn.metrics.f1_score.html\n",
    "2. Hyperparameter tuning in SGD and Logistic Classifiers: <br>\n",
    "   https://www.knowledgehut.com/tutorials/machine-learning/hyperparameter-tuning-machine-learning"
   ]
  },
  {
   "cell_type": "code",
   "execution_count": null,
   "metadata": {},
   "outputs": [],
   "source": []
  }
 ],
 "metadata": {
  "kernelspec": {
   "display_name": "Python 3",
   "language": "python",
   "name": "python3"
  },
  "language_info": {
   "codemirror_mode": {
    "name": "ipython",
    "version": 3
   },
   "file_extension": ".py",
   "mimetype": "text/x-python",
   "name": "python",
   "nbconvert_exporter": "python",
   "pygments_lexer": "ipython3",
   "version": "3.7.4"
  }
 },
 "nbformat": 4,
 "nbformat_minor": 4
}
